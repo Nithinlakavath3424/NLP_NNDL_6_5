{
  "nbformat": 4,
  "nbformat_minor": 0,
  "metadata": {
    "colab": {
      "provenance": []
    },
    "kernelspec": {
      "name": "python3",
      "display_name": "Python 3"
    },
    "language_info": {
      "name": "python"
    }
  },
  "cells": [
    {
      "cell_type": "code",
      "execution_count": 1,
      "metadata": {
        "id": "fO9kGXoy44yI"
      },
      "outputs": [],
      "source": [
        "import numpy as np\n",
        "import tensorflow as tf\n",
        "from tensorflow.keras.preprocessing.text import Tokenizer\n",
        "from tensorflow.keras.preprocessing.sequence import pad_sequences\n",
        "from tensorflow.keras.models import Sequential\n",
        "from tensorflow.keras.layers import Embedding, LSTM, Dense\n"
      ]
    },
    {
      "cell_type": "code",
      "source": [
        "texts = [\n",
        "  \"I love deep learning!\",\n",
        "  \"This model is amazing.\",\n",
        "  \"I'm feeling great.\",\n",
        "  \"This is terrible.\",\n",
        "  \"I hate this.\",\n",
        "  \"I'm not sure how I feel about this.\",\n",
        "  ]\n",
        "labels = np.array([1, 1, 1, 0, 0, 0])\n"
      ],
      "metadata": {
        "id": "9IwvFNUx5Hyr"
      },
      "execution_count": 3,
      "outputs": []
    },
    {
      "cell_type": "code",
      "source": [
        "tokenizer = Tokenizer()\n",
        "tokenizer.fit_on_texts(texts)\n",
        "sequences = tokenizer.texts_to_sequences(texts)\n",
        "maxlen = max(len(x) for x in sequences)\n",
        "padded_sequences = pad_sequences(sequences, maxlen=maxlen)\n"
      ],
      "metadata": {
        "id": "TOGeH-KB5UY4"
      },
      "execution_count": 4,
      "outputs": []
    },
    {
      "cell_type": "code",
      "source": [
        "model = Sequential()\n",
        "model.add(Embedding(input_dim=len(tokenizer.word_index)+1, output_dim=64, input_length=maxlen))\n",
        "model.add(LSTM(64))\n",
        "model.add(Dense(1, activation='sigmoid'))\n"
      ],
      "metadata": {
        "id": "SmR4ryjA5aEd"
      },
      "execution_count": 5,
      "outputs": []
    },
    {
      "cell_type": "code",
      "source": [
        "model.compile(optimizer='adam', loss='binary_crossentropy', metrics=['accuracy'])\n"
      ],
      "metadata": {
        "id": "6jBNHf3L5ctH"
      },
      "execution_count": 6,
      "outputs": []
    },
    {
      "cell_type": "code",
      "source": [
        "model.fit(padded_sequences, labels, epochs=10, batch_size=2)"
      ],
      "metadata": {
        "colab": {
          "base_uri": "https://localhost:8080/"
        },
        "id": "uhOHJPiz5fjo",
        "outputId": "53dc8da4-c1ff-437f-e364-43e6dfc620d3"
      },
      "execution_count": 7,
      "outputs": [
        {
          "output_type": "stream",
          "name": "stdout",
          "text": [
            "Epoch 1/10\n",
            "3/3 [==============================] - 2s 11ms/step - loss: 0.6975 - accuracy: 0.3333\n",
            "Epoch 2/10\n",
            "3/3 [==============================] - 0s 8ms/step - loss: 0.6912 - accuracy: 0.6667\n",
            "Epoch 3/10\n",
            "3/3 [==============================] - 0s 9ms/step - loss: 0.6857 - accuracy: 0.6667\n",
            "Epoch 4/10\n",
            "3/3 [==============================] - 0s 8ms/step - loss: 0.6802 - accuracy: 1.0000\n",
            "Epoch 5/10\n",
            "3/3 [==============================] - 0s 8ms/step - loss: 0.6752 - accuracy: 1.0000\n",
            "Epoch 6/10\n",
            "3/3 [==============================] - 0s 12ms/step - loss: 0.6683 - accuracy: 1.0000\n",
            "Epoch 7/10\n",
            "3/3 [==============================] - 0s 8ms/step - loss: 0.6596 - accuracy: 1.0000\n",
            "Epoch 8/10\n",
            "3/3 [==============================] - 0s 9ms/step - loss: 0.6514 - accuracy: 1.0000\n",
            "Epoch 9/10\n",
            "3/3 [==============================] - 0s 8ms/step - loss: 0.6391 - accuracy: 1.0000\n",
            "Epoch 10/10\n",
            "3/3 [==============================] - 0s 8ms/step - loss: 0.6244 - accuracy: 1.0000\n"
          ]
        },
        {
          "output_type": "execute_result",
          "data": {
            "text/plain": [
              "<keras.src.callbacks.History at 0x786afc30ecb0>"
            ]
          },
          "metadata": {},
          "execution_count": 7
        }
      ]
    },
    {
      "cell_type": "code",
      "source": [
        "test_texts = [\n",
        "  \"This is fantastic!\",\n",
        "  \"I'm feeling awful.\",\n",
        "  \"It's okay.\",\n",
        "  ]\n",
        "\n"
      ],
      "metadata": {
        "id": "i5sOnyCa5im_"
      },
      "execution_count": 8,
      "outputs": []
    },
    {
      "cell_type": "code",
      "source": [
        "test_sequences = tokenizer.texts_to_sequences(test_texts)\n",
        "padded_test_sequences = pad_sequences(test_sequences, maxlen=maxlen)\n",
        "predictions = model.predict(padded_test_sequences)\n"
      ],
      "metadata": {
        "colab": {
          "base_uri": "https://localhost:8080/"
        },
        "id": "ivjj-40Q5m-q",
        "outputId": "82f791bb-ec76-43e8-add1-6ff9bff5ff8c"
      },
      "execution_count": 9,
      "outputs": [
        {
          "output_type": "stream",
          "name": "stdout",
          "text": [
            "1/1 [==============================] - 0s 453ms/step\n"
          ]
        }
      ]
    },
    {
      "cell_type": "code",
      "source": [
        "for text, prediction in zip(test_texts, predictions):\n",
        "  sentiment = \"positive\" if prediction > 0.5 else \"negative\"\n",
        "  print(f\"Text: {text}, Sentiment: {sentiment}, Confidence: {prediction[0]}\")"
      ],
      "metadata": {
        "colab": {
          "base_uri": "https://localhost:8080/"
        },
        "id": "spy68fTa5pxz",
        "outputId": "237750fe-f017-4b10-cc54-5e2e7262d4bb"
      },
      "execution_count": 10,
      "outputs": [
        {
          "output_type": "stream",
          "name": "stdout",
          "text": [
            "Text: This is fantastic!, Sentiment: negative, Confidence: 0.4999261796474457\n",
            "Text: I'm feeling awful., Sentiment: positive, Confidence: 0.5373967289924622\n",
            "Text: It's okay., Sentiment: positive, Confidence: 0.5175679922103882\n"
          ]
        }
      ]
    }
  ]
}
